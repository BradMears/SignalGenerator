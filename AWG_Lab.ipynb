{
 "cells": [
  {
   "cell_type": "markdown",
   "metadata": {},
   "source": [
    "# Arbitrary Waveform Generator Lab\n",
    "Tool for generating waveforms and writing them into one of the arbitrary waveform slots on the Juntek JDS2800 Signal Generator. For controlling the Juntek device, this code uses a very handy python API available at https://github.com/on1arf/jds6600_python. That code is written for the JDS6600 but seems to work with the JDS2800 also.\n",
    "\n",
    "The basic concept is that you populate an array of integers and then pass that array to a function provided by the API. The length of the array is exactly WF_LEN and the values can range from 0 to LINE_VALUE. After you populate the array using one of the cells below, use the last cell in the notebook to write the current array to the device."
   ]
  },
  {
   "cell_type": "code",
   "execution_count": 14,
   "metadata": {},
   "outputs": [],
   "source": [
    "from math import sin, pi\n",
    "import matplotlib.pyplot as plt\n",
    "from jds6600 import jds6600\n",
    "\n",
    "LINE_VALUE = 4095  # Max value that can go in the waveform array\n",
    "WF_LEN = 2048  # Max number of values that can go in the waveform array\n",
    "\n",
    "# All the following cells should populate this array since this is what gets written to the device\n",
    "wf = [0] * WF_LEN"
   ]
  },
  {
   "cell_type": "markdown",
   "metadata": {},
   "source": [
    "## Three frequency signal\n",
    "Generate a signal consisting of sine waves at three different frequencies"
   ]
  },
  {
   "cell_type": "code",
   "execution_count": 10,
   "metadata": {},
   "outputs": [
    {
     "data": {
      "text/plain": [
       "[<matplotlib.lines.Line2D at 0x7f4957805908>]"
      ]
     },
     "execution_count": 10,
     "metadata": {},
     "output_type": "execute_result"
    },
    {
     "data": {
      "image/png": "[encoded data removed]",
      "text/plain": [
       "<Figure size 432x288 with 1 Axes>"
      ]
     },
     "metadata": {
      "needs_background": "light"
     },
     "output_type": "display_data"
    }
   ],
   "source": [
    "# Temporary array we use for floating point calculations until we convert to integer\n",
    "twf = [0] * WF_LEN\n",
    "\n",
    "# To get a smooth curve, use a step size of 2 pi radians divided by the maximum number\n",
    "# of entries in the waveform\n",
    "step_size = 2 * pi / WF_LEN\n",
    "for ii in range(WF_LEN):\n",
    "    x = step_size * ii\n",
    "    val = (\n",
    "        sin(x) + sin(2 * x) + sin(3 * x)\n",
    "    )  # No significance to this equation. Use any you like\n",
    "    twf[ii] = val\n",
    "\n",
    "# Normalize and scale to 0 - LINE_VALUE\n",
    "min_value = min(twf)\n",
    "for ii in range(WF_LEN):\n",
    "    twf[ii] = twf[ii] - min_value\n",
    "max_value = max(twf)\n",
    "scale = LINE_VALUE // max_value\n",
    "for ii in range(WF_LEN):\n",
    "    wf[ii] = round(twf[ii] * scale)\n",
    "    \n",
    "# Plot the waveform to see if we are happy with it\n",
    "%matplotlib inline\n",
    "assert(len(wf) == WF_LEN)\n",
    "plt.plot(wf)"
   ]
  },
  {
   "cell_type": "markdown",
   "metadata": {},
   "source": [
    "## Generate an SOS waveform"
   ]
  },
  {
   "cell_type": "code",
   "execution_count": 29,
   "metadata": {},
   "outputs": [
    {
     "name": "stdout",
     "output_type": "stream",
     "text": [
      "pos = 1920\n"
     ]
    },
    {
     "data": {
      "text/plain": [
       "[<matplotlib.lines.Line2D at 0x7f49572d4dd8>]"
      ]
     },
     "execution_count": 29,
     "metadata": {},
     "output_type": "execute_result"
    },
    {
     "data": {
      "image/png": "[encoded data removed]",
      "text/plain": [
       "<Figure size 432x288 with 1 Axes>"
      ]
     },
     "metadata": {
      "needs_background": "light"
     },
     "output_type": "display_data"
    }
   ],
   "source": [
    "# Lengths of the dots and dashes in the Morse code\n",
    "SCALE_FACTOR = 12\n",
    "DAH_LENGTH = 24 * SCALE_FACTOR\n",
    "DIT_LENGTH = 8 * SCALE_FACTOR\n",
    "SPACE_LENGTH = 4 * SCALE_FACTOR\n",
    "\n",
    "pos = 0\n",
    "\n",
    "def space():\n",
    "    global pos\n",
    "    for ii in range(SPACE_LENGTH):\n",
    "        wf[pos] = 0\n",
    "        pos += 1\n",
    "\n",
    "def dit():\n",
    "    global pos\n",
    "    for ii in range(DIT_LENGTH):\n",
    "        wf[pos] = LINE_VALUE\n",
    "        pos += 1\n",
    "    space()\n",
    "\n",
    "def dah():\n",
    "    global pos\n",
    "    for ii in range(DAH_LENGTH):\n",
    "        wf[pos] = LINE_VALUE\n",
    "        pos += 1\n",
    "    space()\n",
    "\n",
    "def S():\n",
    "    dit()\n",
    "    dit()\n",
    "    dit()\n",
    "\n",
    "def O():\n",
    "    dah()\n",
    "    dah()\n",
    "    dah()\n",
    "\n",
    "space()\n",
    "S()\n",
    "O()\n",
    "S()\n",
    "print(f'pos = {pos}')\n",
    "    \n",
    "# Plot the waveform to see if we are happy with it\n",
    "%matplotlib inline\n",
    "assert(len(wf) == WF_LEN)\n",
    "plt.plot(wf)"
   ]
  },
  {
   "cell_type": "markdown",
   "metadata": {},
   "source": [
    "## Write the current contents of the wf array to the device\n",
    "You will need to set the USB string and the slot number for the waveform\n",
    "TODO - Put in fancy Jupyter GUI controls for those two values"
   ]
  },
  {
   "cell_type": "code",
   "execution_count": 30,
   "metadata": {},
   "outputs": [],
   "source": [
    "SG_SERIAL_PORT = \"/dev/ttyUSB1\"  # Sometimes this is 0, sometimes 1\n",
    "WF_SLOT = 15  # Arbitrary waveform slot # to write to\n",
    "\n",
    "sg = jds6600(SG_SERIAL_PORT)\n",
    "sg.arb_setwave(WF_SLOT, wf)"
   ]
  }
 ],
 "metadata": {
  "kernelspec": {
   "display_name": "Python 3",
   "language": "python",
   "name": "python3"
  },
  "language_info": {
   "codemirror_mode": {
    "name": "ipython",
    "version": 3
   },
   "file_extension": ".py",
   "mimetype": "text/x-python",
   "name": "python",
   "nbconvert_exporter": "python",
   "pygments_lexer": "ipython3",
   "version": "3.7.3"
  }
 },
 "nbformat": 4,
 "nbformat_minor": 4
}
